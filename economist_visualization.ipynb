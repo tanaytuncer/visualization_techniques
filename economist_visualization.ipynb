{
 "cells": [
  {
   "cell_type": "code",
   "execution_count": 16,
   "id": "dd1e4524-03bb-4e1a-a88f-16f5b2ca475d",
   "metadata": {},
   "outputs": [],
   "source": [
    "import matplotlib.pyplot as plt\n",
    "plt.rcParams['figure.dpi'] = 100\n",
    "\n",
    "import numpy as np\n",
    "import pandas as pd\n",
    "\n",
    "import os\n",
    "cwd = os.getcwd() "
   ]
  },
  {
   "cell_type": "code",
   "execution_count": 32,
   "id": "1d55a92f-5a44-471a-8b88-f99611831988",
   "metadata": {},
   "outputs": [
    {
     "data": {
      "text/html": [
       "<div>\n",
       "<style scoped>\n",
       "    .dataframe tbody tr th:only-of-type {\n",
       "        vertical-align: middle;\n",
       "    }\n",
       "\n",
       "    .dataframe tbody tr th {\n",
       "        vertical-align: top;\n",
       "    }\n",
       "\n",
       "    .dataframe thead th {\n",
       "        text-align: right;\n",
       "    }\n",
       "</style>\n",
       "<table border=\"1\" class=\"dataframe\">\n",
       "  <thead>\n",
       "    <tr style=\"text-align: right;\">\n",
       "      <th></th>\n",
       "      <th>year</th>\n",
       "      <th>rank</th>\n",
       "      <th>country</th>\n",
       "      <th>state</th>\n",
       "      <th>gdp</th>\n",
       "      <th>gdp_percent</th>\n",
       "    </tr>\n",
       "  </thead>\n",
       "  <tbody>\n",
       "    <tr>\n",
       "      <th>0</th>\n",
       "      <td>1960</td>\n",
       "      <td>1</td>\n",
       "      <td>the United States</td>\n",
       "      <td>America</td>\n",
       "      <td>543300000000</td>\n",
       "      <td>0.468483</td>\n",
       "    </tr>\n",
       "    <tr>\n",
       "      <th>1</th>\n",
       "      <td>1960</td>\n",
       "      <td>2</td>\n",
       "      <td>United Kingdom</td>\n",
       "      <td>Europe</td>\n",
       "      <td>73233967692</td>\n",
       "      <td>0.063149</td>\n",
       "    </tr>\n",
       "    <tr>\n",
       "      <th>2</th>\n",
       "      <td>1960</td>\n",
       "      <td>3</td>\n",
       "      <td>France</td>\n",
       "      <td>Europe</td>\n",
       "      <td>62225478000</td>\n",
       "      <td>0.053656</td>\n",
       "    </tr>\n",
       "    <tr>\n",
       "      <th>3</th>\n",
       "      <td>1960</td>\n",
       "      <td>4</td>\n",
       "      <td>China</td>\n",
       "      <td>Asia</td>\n",
       "      <td>59716467625</td>\n",
       "      <td>0.051493</td>\n",
       "    </tr>\n",
       "    <tr>\n",
       "      <th>4</th>\n",
       "      <td>1960</td>\n",
       "      <td>5</td>\n",
       "      <td>Japan</td>\n",
       "      <td>Asia</td>\n",
       "      <td>44307342950</td>\n",
       "      <td>0.038206</td>\n",
       "    </tr>\n",
       "    <tr>\n",
       "      <th>5</th>\n",
       "      <td>1960</td>\n",
       "      <td>6</td>\n",
       "      <td>Canada</td>\n",
       "      <td>America</td>\n",
       "      <td>40461721692</td>\n",
       "      <td>0.034890</td>\n",
       "    </tr>\n",
       "    <tr>\n",
       "      <th>6</th>\n",
       "      <td>1960</td>\n",
       "      <td>7</td>\n",
       "      <td>Italy</td>\n",
       "      <td>Europe</td>\n",
       "      <td>40385288344</td>\n",
       "      <td>0.034824</td>\n",
       "    </tr>\n",
       "    <tr>\n",
       "      <th>7</th>\n",
       "      <td>1960</td>\n",
       "      <td>8</td>\n",
       "      <td>India</td>\n",
       "      <td>Asia</td>\n",
       "      <td>37029883875</td>\n",
       "      <td>0.031931</td>\n",
       "    </tr>\n",
       "    <tr>\n",
       "      <th>8</th>\n",
       "      <td>1960</td>\n",
       "      <td>9</td>\n",
       "      <td>Australia</td>\n",
       "      <td>Oceania</td>\n",
       "      <td>18577668271</td>\n",
       "      <td>0.016019</td>\n",
       "    </tr>\n",
       "    <tr>\n",
       "      <th>9</th>\n",
       "      <td>1960</td>\n",
       "      <td>10</td>\n",
       "      <td>Sweden</td>\n",
       "      <td>Europe</td>\n",
       "      <td>15822585033</td>\n",
       "      <td>0.013644</td>\n",
       "    </tr>\n",
       "  </tbody>\n",
       "</table>\n",
       "</div>"
      ],
      "text/plain": [
       "   year  rank            country    state           gdp  gdp_percent\n",
       "0  1960     1  the United States  America  543300000000     0.468483\n",
       "1  1960     2     United Kingdom   Europe   73233967692     0.063149\n",
       "2  1960     3             France   Europe   62225478000     0.053656\n",
       "3  1960     4              China     Asia   59716467625     0.051493\n",
       "4  1960     5              Japan     Asia   44307342950     0.038206\n",
       "5  1960     6             Canada  America   40461721692     0.034890\n",
       "6  1960     7              Italy   Europe   40385288344     0.034824\n",
       "7  1960     8              India     Asia   37029883875     0.031931\n",
       "8  1960     9          Australia  Oceania   18577668271     0.016019\n",
       "9  1960    10             Sweden   Europe   15822585033     0.013644"
      ]
     },
     "execution_count": 32,
     "metadata": {},
     "output_type": "execute_result"
    }
   ],
   "source": [
    "df_gdp = pd.read_csv(\"~/jupyter_data/gdp_1960_2020.csv\")\n",
    "df_gdp.head(10)"
   ]
  },
  {
   "cell_type": "code",
   "execution_count": 49,
   "id": "40ec239f-abe9-4364-8d86-c1f5c73c5878",
   "metadata": {},
   "outputs": [],
   "source": [
    "df_gdp[\"gdp_trillion\"] = df_gdp[\"gdp\"] / 1_000_000_000_000\n",
    "df_gdp_2020 = df_gdp[df_gdp[\"year\"] == 2020].sort_values (by = \"gdp_trillion\").tail(9).round(2)"
   ]
  },
  {
   "cell_type": "code",
   "execution_count": 183,
   "id": "a6c11f69-f43c-4136-b799-657d0a859d3c",
   "metadata": {},
   "outputs": [
    {
     "name": "stderr",
     "output_type": "stream",
     "text": [
      "/var/folders/6h/jvmzrwp928d6f5g79d7p3n2w0000gn/T/ipykernel_25713/332492371.py:20: UserWarning: FixedFormatter should only be used together with FixedLocator\n",
      "  ax.set_yticklabels(df_gdp_2020['country'], ha = \"left\")\n"
     ]
    },
    {
     "data": {
      "image/png": "[encoded data removed]",
      "text/plain": [
       "<Figure size 300x600 with 1 Axes>"
      ]
     },
     "metadata": {
      "needs_background": "light"
     },
     "output_type": "display_data"
    }
   ],
   "source": [
    "#Setting up\n",
    "color_grey = \"#758D99\"\n",
    "color_blue = \"#006BA2\"\n",
    "color_red = \"#E3120B\"\n",
    "\n",
    "fig, ax = plt.subplots(figsize = (3,6))\n",
    "\n",
    "ax.grid(which = \"major\", axis = \"x\", color = color_grey, alpha = 0.6, zorder = 1)\n",
    "ax.spines[[\"top\", \"right\", \"bottom\"]].set_visible(False) \n",
    "ax.spines['left'].set_linewidth(1.1)\n",
    "ax.spines['left'].set_linewidth(1.1)\n",
    "\n",
    "#Plot data\n",
    "ax.barh(df_gdp_2020['country'], df_gdp_2020['gdp_trillion'], color=color_blue, zorder=2)\n",
    "\n",
    "ax.set_xticks([0, 5, 10, 15, 20])\n",
    "ax.set_xticklabels([0, 5, 10, 15, 20])\n",
    "ax.xaxis.set_tick_params(labeltop = True, labelbottom = False, bottom = False, labelsize = 10) \n",
    "\n",
    "ax.set_yticklabels(df_gdp_2020['country'], ha = \"left\")\n",
    "ax.yaxis.set_tick_params(pad=125, labelsize=10, bottom=False)     \n",
    "\n",
    "ax.plot([-.5, .87], [1.05, 1.05], linewidth=.6, transform = fig.transFigure, color = color_red, clip_on=False)\n",
    "ax.add_patch(plt.Rectangle((-.5, 1.05),  0.12, -0.02, facecolor = color_red, transform=fig.transFigure, clip_on = False, linewidth = 0))\n",
    "ax.text(x=-.5, y=0.98, s=\"Countries with highest GDP\", transform=fig.transFigure, ha='left', fontsize=13, weight='bold', alpha=.8)\n",
    "ax.text(x=-.5, y=.950, s=\"2020 GDP, trillions of USD\", transform=fig.transFigure, ha='left', fontsize=11, alpha=.8)\n",
    "\n",
    "ax.text(x=-.5, y=.099, s = \"Source: Kaggle.com\", transform=fig.transFigure, ha='left', fontsize=8, alpha=.8);\n",
    "\n",
    "#Sava plot as png\n",
    "#plt.savefig(cwd + \"/output\" + \"/plot.svg\", dpi = 500, facecolor = \"white\", bbox_inches=\"tight\")"
   ]
  },
  {
   "cell_type": "code",
   "execution_count": null,
   "id": "08696c07-583a-46a3-b303-595948ca19b4",
   "metadata": {},
   "outputs": [],
   "source": []
  }
 ],
 "metadata": {
  "kernelspec": {
   "display_name": "Python 3 (ipykernel)",
   "language": "python",
   "name": "python3"
  },
  "language_info": {
   "codemirror_mode": {
    "name": "ipython",
    "version": 3
   },
   "file_extension": ".py",
   "mimetype": "text/x-python",
   "name": "python",
   "nbconvert_exporter": "python",
   "pygments_lexer": "ipython3",
   "version": "3.9.4"
  }
 },
 "nbformat": 4,
 "nbformat_minor": 5
}
